{
  "nbformat": 4,
  "nbformat_minor": 0,
  "metadata": {
    "colab": {
      "provenance": []
    },
    "kernelspec": {
      "name": "python3",
      "display_name": "Python 3"
    },
    "language_info": {
      "name": "python"
    }
  },
  "cells": [
    {
      "cell_type": "markdown",
      "source": [],
      "metadata": {
        "id": "w84mnJ2Fq3ze"
      }
    },
    {
      "cell_type": "code",
      "source": [],
      "metadata": {
        "id": "dO2u2Iyqq3d2"
      },
      "execution_count": null,
      "outputs": []
    },
    {
      "cell_type": "code",
      "source": [
        "df=pd.read_csv('Effect_of_online_class@.csv')\n",
        "df"
      ],
      "metadata": {
        "colab": {
          "base_uri": "https://localhost:8080/",
          "height": 763
        },
        "id": "DFnlEcS09p0T",
        "outputId": "ab2ec9a4-a836-4d1b-8a85-592bea39cce2"
      },
      "execution_count": null,
      "outputs": [
        {
          "output_type": "execute_result",
          "data": {
            "text/plain": [
              "     Batch     Divison Home Location in* Your Internet connection  \\\n",
              "0      192    Barishal              Town                  Average   \n",
              "1      193    Barishal              City                     Good   \n",
              "2      182       Dhaka              City                     Good   \n",
              "3      192     Rangpur           Village                      Bad   \n",
              "4      202       Dhaka              City                     Good   \n",
              "..     ...         ...               ...                      ...   \n",
              "213    172  Mymensingh              Town                  Average   \n",
              "214    203       Dhaka              Town                  Average   \n",
              "215    211  Mymensingh              City                      Bad   \n",
              "216    203    Barishal           Village                 Very Bad   \n",
              "217    191       Dhaka              Town                  Average   \n",
              "\n",
              "    Managing Learning Materials are      Class system perference  \\\n",
              "0                           Avarage  Online conference platforms   \n",
              "1                              Easy       Uploaded lecture notes   \n",
              "2                              Easy  Online conference platforms   \n",
              "3                         Difficult       Uploaded lecture notes   \n",
              "4                              Easy  Online conference platforms   \n",
              "..                              ...                          ...   \n",
              "213                            Easy               Recorded video   \n",
              "214                         Avarage               Recorded video   \n",
              "215                         Avarage  Online conference platforms   \n",
              "216                       Difficult                      Youtube   \n",
              "217                         Avarage       Uploaded lecture notes   \n",
              "\n",
              "    Your participation during faculty lecture  \\\n",
              "0                          Somewhat attentive   \n",
              "1                                   Attentive   \n",
              "2                      Doing other activities   \n",
              "3                          Somewhat attentive   \n",
              "4                                      Sleepy   \n",
              "..                                        ...   \n",
              "213                    Doing other activities   \n",
              "214                        Somewhat attentive   \n",
              "215                        Somewhat attentive   \n",
              "216                    Doing other activities   \n",
              "217                                    Sleepy   \n",
              "\n",
              "    Gaps in learning and decline in academic performance  \\\n",
              "0                                          Isn't worry     \n",
              "1                                           Is a worry     \n",
              "2                                          Isn't worry     \n",
              "3                                           Is a worry     \n",
              "4                                           Is a worry     \n",
              "..                                                 ...     \n",
              "213                                        Do not know     \n",
              "214                                        Isn't worry     \n",
              "215                                        Isn't worry     \n",
              "216                                        Do not know     \n",
              "217                                        Isn't worry     \n",
              "\n",
              "    Weakening of relationships between friends and sense of community  \\\n",
              "0                                           Is a worry                  \n",
              "1                                           Is a worry                  \n",
              "2                                           Is a worry                  \n",
              "3                                           Is a worry                  \n",
              "4                                          Isn't worry                  \n",
              "..                                                 ...                  \n",
              "213                                        Do not know                  \n",
              "214                                         Is a worry                  \n",
              "215                                        Do not know                  \n",
              "216                                        Do not know                  \n",
              "217                                         Is a worry                  \n",
              "\n",
              "    How effective has online class been for you?  \\\n",
              "0                             Slightly effective   \n",
              "1                           Moderately effective   \n",
              "2                             Slightly effective   \n",
              "3                             Slightly effective   \n",
              "4                           Moderately effective   \n",
              "..                                           ...   \n",
              "213                           Slightly effective   \n",
              "214                               Very effective   \n",
              "215                         Not at all effective   \n",
              "216                         Not at all effective   \n",
              "217                         Not at all effective   \n",
              "\n",
              "    Experience about online classes  \n",
              "0                           Average  \n",
              "1                               Bad  \n",
              "2                           Average  \n",
              "3                               Bad  \n",
              "4                           Average  \n",
              "..                              ...  \n",
              "213                         Average  \n",
              "214                            Good  \n",
              "215                        Very Bad  \n",
              "216                        Very Bad  \n",
              "217                             Bad  \n",
              "\n",
              "[218 rows x 11 columns]"
            ],
            "text/html": [
              "\n",
              "  <div id=\"df-d85a327b-bb3e-4610-bfe9-9613e7d19e46\">\n",
              "    <div class=\"colab-df-container\">\n",
              "      <div>\n",
              "<style scoped>\n",
              "    .dataframe tbody tr th:only-of-type {\n",
              "        vertical-align: middle;\n",
              "    }\n",
              "\n",
              "    .dataframe tbody tr th {\n",
              "        vertical-align: top;\n",
              "    }\n",
              "\n",
              "    .dataframe thead th {\n",
              "        text-align: right;\n",
              "    }\n",
              "</style>\n",
              "<table border=\"1\" class=\"dataframe\">\n",
              "  <thead>\n",
              "    <tr style=\"text-align: right;\">\n",
              "      <th></th>\n",
              "      <th>Batch</th>\n",
              "      <th>Divison</th>\n",
              "      <th>Home Location in*</th>\n",
              "      <th>Your Internet connection</th>\n",
              "      <th>Managing Learning Materials are</th>\n",
              "      <th>Class system perference</th>\n",
              "      <th>Your participation during faculty lecture</th>\n",
              "      <th>Gaps in learning and decline in academic performance</th>\n",
              "      <th>Weakening of relationships between friends and sense of community</th>\n",
              "      <th>How effective has online class been for you?</th>\n",
              "      <th>Experience about online classes</th>\n",
              "    </tr>\n",
              "  </thead>\n",
              "  <tbody>\n",
              "    <tr>\n",
              "      <th>0</th>\n",
              "      <td>192</td>\n",
              "      <td>Barishal</td>\n",
              "      <td>Town</td>\n",
              "      <td>Average</td>\n",
              "      <td>Avarage</td>\n",
              "      <td>Online conference platforms</td>\n",
              "      <td>Somewhat attentive</td>\n",
              "      <td>Isn't worry</td>\n",
              "      <td>Is a worry</td>\n",
              "      <td>Slightly effective</td>\n",
              "      <td>Average</td>\n",
              "    </tr>\n",
              "    <tr>\n",
              "      <th>1</th>\n",
              "      <td>193</td>\n",
              "      <td>Barishal</td>\n",
              "      <td>City</td>\n",
              "      <td>Good</td>\n",
              "      <td>Easy</td>\n",
              "      <td>Uploaded lecture notes</td>\n",
              "      <td>Attentive</td>\n",
              "      <td>Is a worry</td>\n",
              "      <td>Is a worry</td>\n",
              "      <td>Moderately effective</td>\n",
              "      <td>Bad</td>\n",
              "    </tr>\n",
              "    <tr>\n",
              "      <th>2</th>\n",
              "      <td>182</td>\n",
              "      <td>Dhaka</td>\n",
              "      <td>City</td>\n",
              "      <td>Good</td>\n",
              "      <td>Easy</td>\n",
              "      <td>Online conference platforms</td>\n",
              "      <td>Doing other activities</td>\n",
              "      <td>Isn't worry</td>\n",
              "      <td>Is a worry</td>\n",
              "      <td>Slightly effective</td>\n",
              "      <td>Average</td>\n",
              "    </tr>\n",
              "    <tr>\n",
              "      <th>3</th>\n",
              "      <td>192</td>\n",
              "      <td>Rangpur</td>\n",
              "      <td>Village</td>\n",
              "      <td>Bad</td>\n",
              "      <td>Difficult</td>\n",
              "      <td>Uploaded lecture notes</td>\n",
              "      <td>Somewhat attentive</td>\n",
              "      <td>Is a worry</td>\n",
              "      <td>Is a worry</td>\n",
              "      <td>Slightly effective</td>\n",
              "      <td>Bad</td>\n",
              "    </tr>\n",
              "    <tr>\n",
              "      <th>4</th>\n",
              "      <td>202</td>\n",
              "      <td>Dhaka</td>\n",
              "      <td>City</td>\n",
              "      <td>Good</td>\n",
              "      <td>Easy</td>\n",
              "      <td>Online conference platforms</td>\n",
              "      <td>Sleepy</td>\n",
              "      <td>Is a worry</td>\n",
              "      <td>Isn't worry</td>\n",
              "      <td>Moderately effective</td>\n",
              "      <td>Average</td>\n",
              "    </tr>\n",
              "    <tr>\n",
              "      <th>...</th>\n",
              "      <td>...</td>\n",
              "      <td>...</td>\n",
              "      <td>...</td>\n",
              "      <td>...</td>\n",
              "      <td>...</td>\n",
              "      <td>...</td>\n",
              "      <td>...</td>\n",
              "      <td>...</td>\n",
              "      <td>...</td>\n",
              "      <td>...</td>\n",
              "      <td>...</td>\n",
              "    </tr>\n",
              "    <tr>\n",
              "      <th>213</th>\n",
              "      <td>172</td>\n",
              "      <td>Mymensingh</td>\n",
              "      <td>Town</td>\n",
              "      <td>Average</td>\n",
              "      <td>Easy</td>\n",
              "      <td>Recorded video</td>\n",
              "      <td>Doing other activities</td>\n",
              "      <td>Do not know</td>\n",
              "      <td>Do not know</td>\n",
              "      <td>Slightly effective</td>\n",
              "      <td>Average</td>\n",
              "    </tr>\n",
              "    <tr>\n",
              "      <th>214</th>\n",
              "      <td>203</td>\n",
              "      <td>Dhaka</td>\n",
              "      <td>Town</td>\n",
              "      <td>Average</td>\n",
              "      <td>Avarage</td>\n",
              "      <td>Recorded video</td>\n",
              "      <td>Somewhat attentive</td>\n",
              "      <td>Isn't worry</td>\n",
              "      <td>Is a worry</td>\n",
              "      <td>Very effective</td>\n",
              "      <td>Good</td>\n",
              "    </tr>\n",
              "    <tr>\n",
              "      <th>215</th>\n",
              "      <td>211</td>\n",
              "      <td>Mymensingh</td>\n",
              "      <td>City</td>\n",
              "      <td>Bad</td>\n",
              "      <td>Avarage</td>\n",
              "      <td>Online conference platforms</td>\n",
              "      <td>Somewhat attentive</td>\n",
              "      <td>Isn't worry</td>\n",
              "      <td>Do not know</td>\n",
              "      <td>Not at all effective</td>\n",
              "      <td>Very Bad</td>\n",
              "    </tr>\n",
              "    <tr>\n",
              "      <th>216</th>\n",
              "      <td>203</td>\n",
              "      <td>Barishal</td>\n",
              "      <td>Village</td>\n",
              "      <td>Very Bad</td>\n",
              "      <td>Difficult</td>\n",
              "      <td>Youtube</td>\n",
              "      <td>Doing other activities</td>\n",
              "      <td>Do not know</td>\n",
              "      <td>Do not know</td>\n",
              "      <td>Not at all effective</td>\n",
              "      <td>Very Bad</td>\n",
              "    </tr>\n",
              "    <tr>\n",
              "      <th>217</th>\n",
              "      <td>191</td>\n",
              "      <td>Dhaka</td>\n",
              "      <td>Town</td>\n",
              "      <td>Average</td>\n",
              "      <td>Avarage</td>\n",
              "      <td>Uploaded lecture notes</td>\n",
              "      <td>Sleepy</td>\n",
              "      <td>Isn't worry</td>\n",
              "      <td>Is a worry</td>\n",
              "      <td>Not at all effective</td>\n",
              "      <td>Bad</td>\n",
              "    </tr>\n",
              "  </tbody>\n",
              "</table>\n",
              "<p>218 rows × 11 columns</p>\n",
              "</div>\n",
              "      <button class=\"colab-df-convert\" onclick=\"convertToInteractive('df-d85a327b-bb3e-4610-bfe9-9613e7d19e46')\"\n",
              "              title=\"Convert this dataframe to an interactive table.\"\n",
              "              style=\"display:none;\">\n",
              "        \n",
              "  <svg xmlns=\"http://www.w3.org/2000/svg\" height=\"24px\"viewBox=\"0 0 24 24\"\n",
              "       width=\"24px\">\n",
              "    <path d=\"M0 0h24v24H0V0z\" fill=\"none\"/>\n",
              "    <path d=\"M18.56 5.44l.94 2.06.94-2.06 2.06-.94-2.06-.94-.94-2.06-.94 2.06-2.06.94zm-11 1L8.5 8.5l.94-2.06 2.06-.94-2.06-.94L8.5 2.5l-.94 2.06-2.06.94zm10 10l.94 2.06.94-2.06 2.06-.94-2.06-.94-.94-2.06-.94 2.06-2.06.94z\"/><path d=\"M17.41 7.96l-1.37-1.37c-.4-.4-.92-.59-1.43-.59-.52 0-1.04.2-1.43.59L10.3 9.45l-7.72 7.72c-.78.78-.78 2.05 0 2.83L4 21.41c.39.39.9.59 1.41.59.51 0 1.02-.2 1.41-.59l7.78-7.78 2.81-2.81c.8-.78.8-2.07 0-2.86zM5.41 20L4 18.59l7.72-7.72 1.47 1.35L5.41 20z\"/>\n",
              "  </svg>\n",
              "      </button>\n",
              "      \n",
              "  <style>\n",
              "    .colab-df-container {\n",
              "      display:flex;\n",
              "      flex-wrap:wrap;\n",
              "      gap: 12px;\n",
              "    }\n",
              "\n",
              "    .colab-df-convert {\n",
              "      background-color: #E8F0FE;\n",
              "      border: none;\n",
              "      border-radius: 50%;\n",
              "      cursor: pointer;\n",
              "      display: none;\n",
              "      fill: #1967D2;\n",
              "      height: 32px;\n",
              "      padding: 0 0 0 0;\n",
              "      width: 32px;\n",
              "    }\n",
              "\n",
              "    .colab-df-convert:hover {\n",
              "      background-color: #E2EBFA;\n",
              "      box-shadow: 0px 1px 2px rgba(60, 64, 67, 0.3), 0px 1px 3px 1px rgba(60, 64, 67, 0.15);\n",
              "      fill: #174EA6;\n",
              "    }\n",
              "\n",
              "    [theme=dark] .colab-df-convert {\n",
              "      background-color: #3B4455;\n",
              "      fill: #D2E3FC;\n",
              "    }\n",
              "\n",
              "    [theme=dark] .colab-df-convert:hover {\n",
              "      background-color: #434B5C;\n",
              "      box-shadow: 0px 1px 3px 1px rgba(0, 0, 0, 0.15);\n",
              "      filter: drop-shadow(0px 1px 2px rgba(0, 0, 0, 0.3));\n",
              "      fill: #FFFFFF;\n",
              "    }\n",
              "  </style>\n",
              "\n",
              "      <script>\n",
              "        const buttonEl =\n",
              "          document.querySelector('#df-d85a327b-bb3e-4610-bfe9-9613e7d19e46 button.colab-df-convert');\n",
              "        buttonEl.style.display =\n",
              "          google.colab.kernel.accessAllowed ? 'block' : 'none';\n",
              "\n",
              "        async function convertToInteractive(key) {\n",
              "          const element = document.querySelector('#df-d85a327b-bb3e-4610-bfe9-9613e7d19e46');\n",
              "          const dataTable =\n",
              "            await google.colab.kernel.invokeFunction('convertToInteractive',\n",
              "                                                     [key], {});\n",
              "          if (!dataTable) return;\n",
              "\n",
              "          const docLinkHtml = 'Like what you see? Visit the ' +\n",
              "            '<a target=\"_blank\" href=https://colab.research.google.com/notebooks/data_table.ipynb>data table notebook</a>'\n",
              "            + ' to learn more about interactive tables.';\n",
              "          element.innerHTML = '';\n",
              "          dataTable['output_type'] = 'display_data';\n",
              "          await google.colab.output.renderOutput(dataTable, element);\n",
              "          const docLink = document.createElement('div');\n",
              "          docLink.innerHTML = docLinkHtml;\n",
              "          element.appendChild(docLink);\n",
              "        }\n",
              "      </script>\n",
              "    </div>\n",
              "  </div>\n",
              "  "
            ]
          },
          "metadata": {},
          "execution_count": 2
        }
      ]
    },
    {
      "cell_type": "code",
      "source": [
        "f, ax = plt.subplots(figsize=(10,8))\n",
        "sns.countplot(y='Divison',data=df, color=\"purple\",\n",
        "             order=df['Divison'].value_counts().index);\n",
        "\n",
        "             "
      ],
      "metadata": {
        "colab": {
          "base_uri": "https://localhost:8080/",
          "height": 497
        },
        "id": "hcyE2kRh94Ai",
        "outputId": "fccea29e-c858-4608-bdbd-d086fbe145bc"
      },
      "execution_count": null,
      "outputs": [
        {
          "output_type": "display_data",
          "data": {
            "text/plain": [
              "<Figure size 720x576 with 1 Axes>"
            ],
            "image/png": "[encoded data removed]"
          },
          "metadata": {
            "needs_background": "light"
          }
        }
      ]
    },
    {
      "cell_type": "code",
      "source": [
        "sns.boxplot(x=df['Batch'])"
      ],
      "metadata": {
        "colab": {
          "base_uri": "https://localhost:8080/",
          "height": 296
        },
        "id": "WT222egl_MSm",
        "outputId": "3c6724d3-a2d8-4292-f9c3-9768882af7b2"
      },
      "execution_count": null,
      "outputs": [
        {
          "output_type": "execute_result",
          "data": {
            "text/plain": [
              "<matplotlib.axes._subplots.AxesSubplot at 0x7ff1dd3bc910>"
            ]
          },
          "metadata": {},
          "execution_count": 10
        },
        {
          "output_type": "display_data",
          "data": {
            "text/plain": [
              "<Figure size 432x288 with 1 Axes>"
            ],
            "image/png": "[encoded data removed]"
          },
          "metadata": {
            "needs_background": "light"
          }
        }
      ]
    },
    {
      "cell_type": "code",
      "source": [
        "f, ax = plt.subplots(figsize=(10, 5))\n",
        "sns.countplot(y='Home Location in*',data=df, color=\"black\",\n",
        "             order=df['Home Location in*'].value_counts().index);"
      ],
      "metadata": {
        "colab": {
          "base_uri": "https://localhost:8080/",
          "height": 334
        },
        "id": "PmeEl33v-IdD",
        "outputId": "d9b3dd8f-bf1e-4e06-8133-aa47c871a623"
      },
      "execution_count": null,
      "outputs": [
        {
          "output_type": "display_data",
          "data": {
            "text/plain": [
              "<Figure size 720x360 with 1 Axes>"
            ],
            "image/png": "[encoded data removed]"
          },
          "metadata": {
            "needs_background": "light"
          }
        }
      ]
    },
    {
      "cell_type": "code",
      "execution_count": null,
      "metadata": {
        "colab": {
          "base_uri": "https://localhost:8080/",
          "height": 1000
        },
        "id": "Xx3KSuFK9a1l",
        "outputId": "5db344e5-8459-4e14-feb3-737ea3acdff4"
      },
      "outputs": [
        {
          "output_type": "display_data",
          "data": {
            "text/plain": [
              "<IPython.core.display.HTML object>"
            ],
            "text/html": [
              "\n",
              "     <input type=\"file\" id=\"files-6fe68402-1478-4273-b3dd-a39fac15ca59\" name=\"files[]\" multiple disabled\n",
              "        style=\"border:none\" />\n",
              "     <output id=\"result-6fe68402-1478-4273-b3dd-a39fac15ca59\">\n",
              "      Upload widget is only available when the cell has been executed in the\n",
              "      current browser session. Please rerun this cell to enable.\n",
              "      </output>\n",
              "      <script>// Copyright 2017 Google LLC\n",
              "//\n",
              "// Licensed under the Apache License, Version 2.0 (the \"License\");\n",
              "// you may not use this file except in compliance with the License.\n",
              "// You may obtain a copy of the License at\n",
              "//\n",
              "//      http://www.apache.org/licenses/LICENSE-2.0\n",
              "//\n",
              "// Unless required by applicable law or agreed to in writing, software\n",
              "// distributed under the License is distributed on an \"AS IS\" BASIS,\n",
              "// WITHOUT WARRANTIES OR CONDITIONS OF ANY KIND, either express or implied.\n",
              "// See the License for the specific language governing permissions and\n",
              "// limitations under the License.\n",
              "\n",
              "/**\n",
              " * @fileoverview Helpers for google.colab Python module.\n",
              " */\n",
              "(function(scope) {\n",
              "function span(text, styleAttributes = {}) {\n",
              "  const element = document.createElement('span');\n",
              "  element.textContent = text;\n",
              "  for (const key of Object.keys(styleAttributes)) {\n",
              "    element.style[key] = styleAttributes[key];\n",
              "  }\n",
              "  return element;\n",
              "}\n",
              "\n",
              "// Max number of bytes which will be uploaded at a time.\n",
              "const MAX_PAYLOAD_SIZE = 100 * 1024;\n",
              "\n",
              "function _uploadFiles(inputId, outputId) {\n",
              "  const steps = uploadFilesStep(inputId, outputId);\n",
              "  const outputElement = document.getElementById(outputId);\n",
              "  // Cache steps on the outputElement to make it available for the next call\n",
              "  // to uploadFilesContinue from Python.\n",
              "  outputElement.steps = steps;\n",
              "\n",
              "  return _uploadFilesContinue(outputId);\n",
              "}\n",
              "\n",
              "// This is roughly an async generator (not supported in the browser yet),\n",
              "// where there are multiple asynchronous steps and the Python side is going\n",
              "// to poll for completion of each step.\n",
              "// This uses a Promise to block the python side on completion of each step,\n",
              "// then passes the result of the previous step as the input to the next step.\n",
              "function _uploadFilesContinue(outputId) {\n",
              "  const outputElement = document.getElementById(outputId);\n",
              "  const steps = outputElement.steps;\n",
              "\n",
              "  const next = steps.next(outputElement.lastPromiseValue);\n",
              "  return Promise.resolve(next.value.promise).then((value) => {\n",
              "    // Cache the last promise value to make it available to the next\n",
              "    // step of the generator.\n",
              "    outputElement.lastPromiseValue = value;\n",
              "    return next.value.response;\n",
              "  });\n",
              "}\n",
              "\n",
              "/**\n",
              " * Generator function which is called between each async step of the upload\n",
              " * process.\n",
              " * @param {string} inputId Element ID of the input file picker element.\n",
              " * @param {string} outputId Element ID of the output display.\n",
              " * @return {!Iterable<!Object>} Iterable of next steps.\n",
              " */\n",
              "function* uploadFilesStep(inputId, outputId) {\n",
              "  const inputElement = document.getElementById(inputId);\n",
              "  inputElement.disabled = false;\n",
              "\n",
              "  const outputElement = document.getElementById(outputId);\n",
              "  outputElement.innerHTML = '';\n",
              "\n",
              "  const pickedPromise = new Promise((resolve) => {\n",
              "    inputElement.addEventListener('change', (e) => {\n",
              "      resolve(e.target.files);\n",
              "    });\n",
              "  });\n",
              "\n",
              "  const cancel = document.createElement('button');\n",
              "  inputElement.parentElement.appendChild(cancel);\n",
              "  cancel.textContent = 'Cancel upload';\n",
              "  const cancelPromise = new Promise((resolve) => {\n",
              "    cancel.onclick = () => {\n",
              "      resolve(null);\n",
              "    };\n",
              "  });\n",
              "\n",
              "  // Wait for the user to pick the files.\n",
              "  const files = yield {\n",
              "    promise: Promise.race([pickedPromise, cancelPromise]),\n",
              "    response: {\n",
              "      action: 'starting',\n",
              "    }\n",
              "  };\n",
              "\n",
              "  cancel.remove();\n",
              "\n",
              "  // Disable the input element since further picks are not allowed.\n",
              "  inputElement.disabled = true;\n",
              "\n",
              "  if (!files) {\n",
              "    return {\n",
              "      response: {\n",
              "        action: 'complete',\n",
              "      }\n",
              "    };\n",
              "  }\n",
              "\n",
              "  for (const file of files) {\n",
              "    const li = document.createElement('li');\n",
              "    li.append(span(file.name, {fontWeight: 'bold'}));\n",
              "    li.append(span(\n",
              "        `(${file.type || 'n/a'}) - ${file.size} bytes, ` +\n",
              "        `last modified: ${\n",
              "            file.lastModifiedDate ? file.lastModifiedDate.toLocaleDateString() :\n",
              "                                    'n/a'} - `));\n",
              "    const percent = span('0% done');\n",
              "    li.appendChild(percent);\n",
              "\n",
              "    outputElement.appendChild(li);\n",
              "\n",
              "    const fileDataPromise = new Promise((resolve) => {\n",
              "      const reader = new FileReader();\n",
              "      reader.onload = (e) => {\n",
              "        resolve(e.target.result);\n",
              "      };\n",
              "      reader.readAsArrayBuffer(file);\n",
              "    });\n",
              "    // Wait for the data to be ready.\n",
              "    let fileData = yield {\n",
              "      promise: fileDataPromise,\n",
              "      response: {\n",
              "        action: 'continue',\n",
              "      }\n",
              "    };\n",
              "\n",
              "    // Use a chunked sending to avoid message size limits. See b/62115660.\n",
              "    let position = 0;\n",
              "    do {\n",
              "      const length = Math.min(fileData.byteLength - position, MAX_PAYLOAD_SIZE);\n",
              "      const chunk = new Uint8Array(fileData, position, length);\n",
              "      position += length;\n",
              "\n",
              "      const base64 = btoa(String.fromCharCode.apply(null, chunk));\n",
              "      yield {\n",
              "        response: {\n",
              "          action: 'append',\n",
              "          file: file.name,\n",
              "          data: base64,\n",
              "        },\n",
              "      };\n",
              "\n",
              "      let percentDone = fileData.byteLength === 0 ?\n",
              "          100 :\n",
              "          Math.round((position / fileData.byteLength) * 100);\n",
              "      percent.textContent = `${percentDone}% done`;\n",
              "\n",
              "    } while (position < fileData.byteLength);\n",
              "  }\n",
              "\n",
              "  // All done.\n",
              "  yield {\n",
              "    response: {\n",
              "      action: 'complete',\n",
              "    }\n",
              "  };\n",
              "}\n",
              "\n",
              "scope.google = scope.google || {};\n",
              "scope.google.colab = scope.google.colab || {};\n",
              "scope.google.colab._files = {\n",
              "  _uploadFiles,\n",
              "  _uploadFilesContinue,\n",
              "};\n",
              "})(self);\n",
              "</script> "
            ]
          },
          "metadata": {}
        },
        {
          "output_type": "stream",
          "name": "stdout",
          "text": [
            "Saving Effect_of_online_class@.csv to Effect_of_online_class@.csv\n"
          ]
        },
        {
          "output_type": "execute_result",
          "data": {
            "text/plain": [
              "{'Effect_of_online_class@.csv': b\"Batch,Divison,Home Location in*,Your Internet connection,Managing Learning Materials are,Class system perference,Your participation during faculty lecture,Gaps in learning and decline in academic performance,Weakening of relationships between friends and sense of community,How effective has online class been for you?,Experience about online classes\\r\\n192,Barishal,Town,Average,Avarage,Online conference platforms,Somewhat attentive,Isn't worry,Is a worry,Slightly effective,Average\\r\\n193,Barishal,City,Good,Easy,Uploaded lecture notes,Attentive,Is a worry,Is a worry,Moderately effective,Bad\\r\\n182,Dhaka,City,Good,Easy,Online conference platforms,Doing other activities,Isn't worry,Is a worry,Slightly effective,Average\\r\\n192,Rangpur,Village,Bad,Difficult,Uploaded lecture notes,Somewhat attentive,Is a worry,Is a worry,Slightly effective,Bad\\r\\n202,Dhaka,City,Good,Easy,Online conference platforms,Sleepy,Is a worry,Isn't worry,Moderately effective,Average\\r\\n221,Dhaka,City,Average,Avarage,Youtube,Sleepy,Is a worry,Is a worry,Slightly effective,Good\\r\\n193,Mymensingh,Town,Bad,Avarage,Recorded video,Attentive,Isn't worry,Do not know,Moderately effective,Good\\r\\n182,Barishal,Village,Bad,Avarage,Recorded video,Doing other activities,Isn't worry,Is a worry,Not at all effective,Bad\\r\\n201,Dhaka,City,Very Bad,Avarage,Online conference platforms,Doing other activities,Is a worry,Is a worry,Very effective,Good\\r\\n173,Rangpur,City,Bad,Avarage,Recorded video,Sleepy,Is a worry,Is a worry,Slightly effective,Bad\\r\\n202,Chattogram,City,Average,Easy,Recorded video,Somewhat attentive,Is a worry,Is a worry,Moderately effective,Average\\r\\n202,Dhaka,City,Average,Easy,Online conference platforms,Attentive,Is a worry,Is a worry,Very effective,Good\\r\\n201,Mymensingh,City,Average,Easy,Uploaded lecture notes,Somewhat attentive,Is a worry,Is a worry,Moderately effective,Good\\r\\n191,Rajshahi,Village,Bad,Avarage,Recorded video,Doing other activities,Is a worry,Is a worry,Slightly effective,Average\\r\\n183,Mymensingh,Village,Bad,Difficult,Recorded video,Somewhat attentive,Is a worry,Is a worry,Not at all effective,Bad\\r\\n202,Rajshahi,Town,Good,Avarage,Youtube,Somewhat attentive,Is a worry,Do not know,Very effective,Bad\\r\\n191,Dhaka,Town,Bad,Avarage,Youtube,Sleepy,Do not know,Is a worry,Very effective,Good\\r\\n192,Sylhet,Town,Average,Difficult,Youtube,Somewhat attentive,Is a worry,Is a worry,Slightly effective,Good\\r\\n192,Rangpur,City,Bad,Avarage,Recorded video,Sleepy,Is a worry,Is a worry,Slightly effective,Bad\\r\\n192,Rangpur,Town,Average,Easy,Recorded video,Somewhat attentive,Is a worry,Is a worry,Moderately effective,Average\\r\\n192,Rangpur,City,Bad,Avarage,Online conference platforms,Sleepy,Isn't worry,Is a worry,Slightly effective,Bad\\r\\n183,Mymensingh,Town,Bad,Avarage,Recorded video,Doing other activities,Is a worry,Is a worry,Slightly effective,Bad\\r\\n193,Khulna,Town,Average,Avarage,Youtube,Attentive,Is a worry,Isn't worry,Slightly effective,Good\\r\\n193,Barishal,City,Bad,Avarage,Online conference platforms,Sleepy,Isn't worry,Is a worry,Slightly effective,Bad\\r\\n193,Dhaka,City,Average,Avarage,Recorded video,Somewhat attentive,Is a worry,Is a worry,Moderately effective,Bad\\r\\n202,Dhaka,City,Bad,Avarage,Online conference platforms,Somewhat attentive,Is a worry,Is a worry,Slightly effective,Bad\\r\\n202,Dhaka,City,Bad,Avarage,Uploaded lecture notes,Doing other activities,Is a worry,Is a worry,Moderately effective,Bad\\r\\n202,Dhaka,Town,Good,Avarage,Youtube,Doing other activities,Is a worry,Is a worry,Moderately effective,Bad\\r\\n201,Mymensingh,City,Average,Avarage,Recorded video,Attentive,Isn't worry,Is a worry,Slightly effective,Bad\\r\\n193,Dhaka,City,Bad,Avarage,Recorded video,Somewhat attentive,Is a worry,Is a worry,Not at all effective,Bad\\r\\n192,Dhaka,City,Good,Avarage,Online conference platforms,Somewhat attentive,Isn't worry,Is a worry,Very effective,Good\\r\\n192,Rajshahi,Village,Bad,Difficult,Uploaded lecture notes,Sleepy,Is a worry,Is a worry,Slightly effective,Bad\\r\\n191,Dhaka,Town,Very Good,Avarage,Online conference platforms,Somewhat attentive,Is a worry,Is a worry,Slightly effective,Bad\\r\\n191,Dhaka,City,Good,Easy,Online conference platforms,Sleepy,Is a worry,Is a worry,Slightly effective,Bad\\r\\n192,Mymensingh,Town,Very Good,Easy,Youtube,Attentive,Isn't worry,Isn't worry,Not at all effective,Good\\r\\n202,Dhaka,City,Average,Easy,Recorded video,Doing other activities,Isn't worry,Isn't worry,Slightly effective,Average\\r\\n210,Dhaka,City,Average,Avarage,Recorded video,Sleepy,Isn't worry,Isn't worry,Not at all effective,Good\\r\\n183,Dhaka,Town,Average,Difficult,Online conference platforms,Somewhat attentive,Isn't worry,Do not know,Not at all effective,Average\\r\\n193,Mymensingh,,Very Good,Avarage,Youtube,Sleepy,Isn't worry,Is a worry,Not at all effective,Average\\r\\n211,Sylhet,Village,Bad,Difficult,Recorded video,Somewhat attentive,Is a worry,Do not know,Not at all effective,Bad\\r\\n192,Mymensingh,Town,Average,Avarage,Uploaded lecture notes,Somewhat attentive,Is a worry,Isn't worry,Slightly effective,Average\\r\\n212,Dhaka,City,Very Good,Easy,Youtube,Doing other activities,Isn't worry,Isn't worry,Moderately effective,Average\\r\\n193,Rajshahi,Town,Average,Avarage,Recorded video,Somewhat attentive,Do not know,Isn't worry,Slightly effective,Good\\r\\n213,Khulna,City,Good,Avarage,Online conference platforms,Sleepy,Isn't worry,Isn't worry,Moderately effective,Bad\\r\\n211,Rajshahi,City,Average,Easy,Youtube,Somewhat attentive,Isn't worry,Isn't worry,Not at all effective,Average\\r\\n182,Rajshahi,Village,Very Bad,Difficult,Recorded video,Sleepy,Is a worry,Is a worry,Not at all effective,Bad\\r\\n193,Dhaka,City,Good,Difficult,Online conference platforms,Sleepy,Is a worry,Is a worry,Very effective,Good\\r\\n181,Dhaka,City,Good,Easy,Recorded video,Somewhat attentive,Isn't worry,Isn't worry,Not at all effective,Good\\r\\n182,Rangpur,Village,Bad,Difficult,Youtube,Sleepy,Is a worry,Isn't worry,Not at all effective,Bad\\r\\n191,Barishal,City,Good,Avarage,Uploaded lecture notes,Somewhat attentive,Isn't worry,Is a worry,Not at all effective,Average\\r\\n212,Khulna,City,Good,Avarage,Online conference platforms,Attentive,Isn't worry,Isn't worry,Slightly effective,Average\\r\\n183,Rangpur,Town,Average,Difficult,Recorded video,Somewhat attentive,Isn't worry,Isn't worry,Moderately effective,Average\\r\\n193,Dhaka,City,Good,Difficult,Online conference platforms,Sleepy,Is a worry,Is a worry,Very effective,Good\\r\\n192,Khulna,City,Average,Easy,Youtube,Somewhat attentive,Isn't worry,Is a worry,Not at all effective,Average\\r\\n173,Dhaka,Town,Average,Avarage,Recorded video,Somewhat attentive,Isn't worry,Isn't worry,Not at all effective,Bad\\r\\n201,Chattogram,City,Average,Easy,Recorded video,Attentive,Isn't worry,Do not know,Extremely effective,Bad\\r\\n171,Dhaka,Village,Bad,Difficult,Youtube,Sleepy,Do not know,Do not know,Not at all effective,Bad\\r\\n173,Rangpur,Village,Bad,Avarage,Online conference platforms,Somewhat attentive,Do not know,Isn't worry,Not at all effective,Bad\\r\\n201,Dhaka,City,Very Bad,Easy,Recorded video,Somewhat attentive,Do not know,Isn't worry,Not at all effective,Average\\r\\n182,Rangpur,City,Average,Avarage,Uploaded lecture notes,Attentive,Isn't worry,Do not know,Not at all effective,Average\\r\\n192,Mymensingh,Village,Average,Avarage,Youtube,Sleepy,Do not know,Do not know,Slightly effective,Average\\r\\n173,Khulna,Village,Bad,Avarage,Online conference platforms,Somewhat attentive,Do not know,Is a worry,Not at all effective,Bad\\r\\n202,Dhaka,City,Very Good,Avarage,Youtube,Somewhat attentive,Isn't worry,Is a worry,Extremely effective,Very Good\\r\\n201,Mymensingh,Village,Bad,Difficult,Recorded video,Somewhat attentive,Is a worry,Isn't worry,Very effective,Bad\\r\\n183,Chattogram,Town,Average,Difficult,Uploaded lecture notes,Sleepy,Do not know,Do not know,Slightly effective,Very Good\\r\\n172,Khulna,City,Average,Easy,Recorded video,Attentive,Do not know,Isn't worry,Slightly effective,Average\\r\\n173,Rangpur,Village,Very Bad,Difficult,Youtube,Sleepy,Do not know,Is a worry,Not at all effective,Bad\\r\\n193,Dhaka,City,Good,Easy,Recorded video,Sleepy,Isn't worry,Is a worry,Moderately effective,Average\\r\\n183,Dhaka,City,Average,Avarage,Uploaded lecture notes,Somewhat attentive,Do not know,Do not know,Slightly effective,Good\\r\\n201,Mymensingh,Town,Average,Avarage,Recorded video,Sleepy,Do not know,Is a worry,Slightly effective,Good\\r\\n213,Dhaka,City,Good,Avarage,Youtube,Sleepy,Isn't worry,Do not know,Moderately effective,Good\\r\\n183,Dhaka,City,Good,Avarage,Youtube,Doing other activities,Isn't worry,Do not know,Moderately effective,Average\\r\\n183,Rangpur,Town,Average,Difficult,Youtube,Sleepy,Do not know,Isn't worry,Very effective,Bad\\r\\n202,Chattogram,Town,Average,Difficult,Uploaded lecture notes,Sleepy,Is a worry,Is a worry,Slightly effective,Average\\r\\n182,Rangpur,Town,Bad,Avarage,Youtube,Somewhat attentive,Isn't worry,Is a worry,Moderately effective,Good\\r\\n193,Dhaka,Town,Average,Avarage,Online conference platforms,Doing other activities,Isn't worry,Isn't worry,Slightly effective,Bad\\r\\n173,Dhaka,Town,Average,Avarage,Uploaded lecture notes,Somewhat attentive,Isn't worry,Isn't worry,Slightly effective,Bad\\r\\n181,Dhaka,City,Good,Avarage,Youtube,Sleepy,Do not know,Is a worry,Not at all effective,Bad\\r\\n201,Dhaka,City,Good,Avarage,Youtube,Somewhat attentive,Isn't worry,Do not know,Moderately effective,Average\\r\\n182,Barishal,City,Average,Easy,Youtube,Attentive,Isn't worry,Do not know,Very effective,Good\\r\\n193,Dhaka,City,Bad,Easy,Recorded video,Somewhat attentive,Isn't worry,Do not know,Moderately effective,Good\\r\\n202,Khulna,Village,Bad,Difficult,Youtube,Somewhat attentive,Isn't worry,IIs a worry,Not at all effective,Bad\\r\\n192,Sylhet,Town,Good,Avarage,Youtube,Sleepy,Isn't worry,Isn't worry,Not at all effective,Bad\\r\\n211,Dhaka,Town,Average,Avarage,Uploaded lecture notes,Sleepy,Do not know,Do not know,Slightly effective,Average\\r\\n192,Dhaka,City,Good,Avarage,Recorded video,Attentive,Isn't worry,Do not know,Moderately effective,Average\\r\\n173,Barishal,Town,Average,Difficult,Online conference platforms,Sleepy,Isn't worry,Is a worry,Slightly effective,Very Bad\\r\\n202,Mymensingh,City,Good,Avarage,Online conference platforms,Sleepy,Do not know,Is a worry,Not at all effective,Average\\r\\n191,Dhaka,Town,Average,Easy,Recorded video,Somewhat attentive,Is a worry,Isn't worry,Slightly effective,Good\\r\\n193,Khulna,Town,Good,Difficult,Youtube,Somewhat attentive,Do not know,Isn't worry,Moderately effective,Average\\r\\n193,Dhaka,City,Good,Easy,Uploaded lecture notes,Somewhat attentive,Isn't worry,Do not know,Slightly effective,Good\\r\\n181,Barishal,Town,Average,Difficult,Youtube,Somewhat attentive,Isn't worry,Is a worry,Slightly effective,Good\\r\\n173,Dhaka,Town,Average,Difficult,Online conference platforms,Sleepy,Do not know,Isn't worry,Very effective,Bad\\r\\n182,Dhaka,City,Good,Avarage,Uploaded lecture notes,Attentive,Do not know,Isn't worry,Not at all effective,Bad\\r\\n193,Rangpur,City,Average,Difficult,Online conference platforms,Sleepy,Do not know,Is a worry,Slightly effective,Good\\r\\n211,Dhaka,City,Average,Easy,Uploaded lecture notes,Doing other activities,Isn't worry,Do not know,Not at all effective,Bad\\r\\n212,Rajshahi,Village,Bad,Difficult,Uploaded lecture notes,Somewhat attentive,Do not know,Do not know,Moderately effective,Bad\\r\\n192,Sylhet,Village,Bad,Difficult,Recorded video,Somewhat attentive,Do not know,Isn't worry,Not at all effective,Very Bad\\r\\n172,Dhaka,Town,Average,Avarage,Youtube,Sleepy,Isn't worry,Isn't worry,Slightly effective,Average\\r\\n201,Barishal,City,Average,Avarage,Online conference platforms,Somewhat attentive,Do not know,Do not know,Slightly effective,Average\\r\\n211,Dhaka,City,Average,Easy,Recorded video,Somewhat attentive,Isn't worry,Isn't worry,Slightly effective,Good\\r\\n201,Dhaka,Town,Average,Avarage,Youtube,Somewhat attentive,Do not know,Isn't worry,Not at all effective,Bad\\r\\n192,Dhaka,City,Average,Avarage,Youtube,Sleepy,Is a worry,Isn't worry,Slightly effective,Average\\r\\n173,Dhaka,Town,Average,Avarage,Recorded video,Sleepy,Is a worry,Isn't worry,Slightly effective,Very Bad\\r\\n193,Sylhet,Town,Average,Avarage,Uploaded lecture notes,Sleepy,Do not know,Do not know,Moderately effective,Average\\r\\n191,Rajshahi,Town,Average,Easy,Uploaded lecture notes,Sleepy,Do not know,Do not know,Not at all effective,Bad\\r\\n202,Rajshahi,Town,Average,Avarage,Online conference platforms,Doing other activities,Isn't worry,Do not know,Not at all effective,Very Bad\\r\\n213,Chattogram,Village,Bad,Difficult,Recorded video,Somewhat attentive,Do not know,Do not know,Not at all effective,Bad\\r\\n201,Rangpur,Village,Good,Avarage,Youtube,Doing other activities,Do not know,Isn't worry,Slightly effective,Average\\r\\n211,Dhaka,City,Bad,Easy,Recorded video,Attentive,Do not know,Is a worry,Slightly effective,Very Good\\r\\n193,Rajshahi,Town,Average,Difficult,Youtube,Somewhat attentive,Do not know,Is a worry,Not at all effective,Bad\\r\\n173,Dhaka,City,Average,Easy,Online conference platforms,Sleepy,Is a worry,Is a worry,Slightly effective,Average\\r\\n193,Rajshahi,Town,Average,Avarage,Youtube,Doing other activities,Do not know,Do not know,Not at all effective,Very Bad\\r\\n202,Khulna,City,Average,Difficult,Youtube,Sleepy,Is a worry,Do not know,Not at all effective,Very Bad\\r\\n193,Dhaka,Town,Average,Difficult,Recorded video,Somewhat attentive,Is a worry,Do not know,Not at all effective,Very Bad\\r\\n172,Dhaka,City,Average,Easy,Youtube,Somewhat attentive,Do not know,Isn't worry,Moderately effective,Average\\r\\n191,Barishal,Town,Bad,Avarage,Uploaded lecture notes,Sleepy,Is a worry,Is a worry,Not at all effective,Bad\\r\\n202,Chattogram,City,Good,Avarage,Youtube,Attentive,Is a worry,Do not know,Moderately effective,Average\\r\\n182,Dhaka,City,Good,Avarage,Uploaded lecture notes,Doing other activities,Do not know,Isn't worry,Not at all effective,Very Bad\\r\\n213,Rajshahi,City,Average,Avarage,Youtube,Attentive,Do not know,Do not know,Slightly effective,Good\\r\\n192,Rangpur,Village,Bad,Difficult,Online conference platforms,Sleepy,Do not know,Is a worry,Moderately effective,Bad\\r\\n212,Khulna,City,Good,Avarage,Uploaded lecture notes,Doing other activities,Do not know,Do not know,Slightly effective,Average\\r\\n192,Rajshahi,Town,Good,Avarage,Youtube,Doing other activities,Do not know,Is a worry,Not at all effective,Very Bad\\r\\n182,Barishal,City,Average,Easy,Recorded video,Somewhat attentive,Is a worry,Do not know,Moderately effective,Good\\r\\n171,Mymensingh,Village,Bad,Difficult,Uploaded lecture notes,Sleepy,Do not know,Isn't worry,Not at all effective,Very Bad\\r\\n192,Rangpur,Village,Very Bad,Difficult,Uploaded lecture notes,Somewhat attentive,Do not know,Do not know,Not at all effective,Very Bad\\r\\n191,Dhaka,City,Good,Avarage,Recorded video,Somewhat attentive,Is a worry,Do not know,Very effective,Very Good\\r\\n202,Dhaka,Town,Average,Difficult,Online conference platforms,Doing other activities,Is a worry,Is a worry,Not at all effective,Bad\\r\\n212,Dhaka,Town,Average,Avarage,Online conference platforms,Sleepy,Is a worry,Do not know,Moderately effective,Good\\r\\n192,Chattogram,City,Average,Easy,Recorded video,Attentive,Is a worry,Is a worry,Very effective,Bad\\r\\n201,Chattogram,Village,Bad,Avarage,Youtube,Somewhat attentive,Is a worry,Is a worry,Not at all effective,Very Bad\\r\\n192,Khulna,City,Average,Avarage,Recorded video,Attentive,Do not know,Do not know,Moderately effective,Good\\r\\n171,Dhaka,Town,Average,Avarage,Recorded video,Sleepy,Isn't worry,Do not know,Moderately effective,Average\\r\\n203,Khulna,City,Average,Avarage,Recorded video,Sleepy,Do not know,Do not know,Slightly effective,Good\\r\\n191,Dhaka,City,Average,Easy,Online conference platforms,Attentive,Is a worry,Do not know,Moderately effective,Very Good\\r\\n192,Rangpur,Village,Bad,Difficult,Youtube,Attentive,Is a worry,Is a worry,Not at all effective,Very Bad\\r\\n210,Barishal,City,Average,Difficult,Youtube,Sleepy,Do not know,Do not know,Slightly effective,Average\\r\\n191,Rajshahi,Village,Very Bad,Difficult,Online conference platforms,Doing other activities,Do not know,Is a worry,Not at all effective,Bad\\r\\n212,Dhaka,Village,Very Bad,Avarage,Uploaded lecture notes,Attentive,Is a worry,Do not know,Moderately effective,Average\\r\\n211,Dhaka,City,Good,Easy,Recorded video,Attentive,Do not know,Is a worry,Slightly effective,Very Good\\r\\n191,Rangpur,Village,Very Bad,Avarage,Online conference platforms,Somewhat attentive,Is a worry,Is a worry,Not at all effective,Bad\\r\\n211,Chattogram,City,Average,Easy,Uploaded lecture notes,Sleepy,Is a worry,Is a worry,Slightly effective,Average\\r\\n181,Dhaka,City,Average,Easy,Youtube,Sleepy,Isn't worry,Is a worry,Slightly effective,Good\\r\\n171,Chattogram,Town,Good,Avarage,Recorded video,Somewhat attentive,Do not know,Do not know,Slightly effective,Good\\r\\n172,Dhaka,City,Very Good,Avarage,Youtube,Attentive,Do not know,Is a worry,Moderately effective,Average\\r\\n193,Barishal,Village,Very Bad,Difficult,Recorded video,Doing other activities,Is a worry,Is a worry,Not at all effective,Bad\\r\\n211,Dhaka,Town,Good,Avarage,Online conference platforms,Somewhat attentive,Is a worry,Is a worry,Not at all effective,Bad\\r\\n182,Khulna,Village,Very Bad,Difficult,Youtube,Sleepy,Do not know,Is a worry,Not at all effective,Very Bad\\r\\n192,Rajshahi,Village,Average,Avarage,Uploaded lecture notes,Doing other activities,Is a worry,Is a worry,Slightly effective,Bad\\r\\n183,Dhaka,City,Bad,Easy,Recorded video,Somewhat attentive,Is a worry,Isn't worry,Slightly effective,Good\\r\\n173,Khulna,City,Average,Easy,Recorded video,Attentive,Do not know,Do not know,Slightly effective,Average\\r\\n202,Dhaka,Town,Average,Avarage,Online conference platforms,Sleepy,Is a worry,Is a worry,Not at all effective,Very Bad\\r\\n193,Barishal,Village,Very Bad,Difficult,Recorded video,Somewhat attentive,Is a worry,Is a worry,Moderately effective,Bad\\r\\n213,Dhaka,Town,Average,Difficult,Online conference platforms,Sleepy,Is a worry,Is a worry,Not at all effective,Bad\\r\\n172,Dhaka,Village,Average,Avarage,Recorded video,Sleepy,Is a worry,Is a worry,Slightly effective,Average\\r\\n182,Dhaka,Town,Average,Avarage,Youtube,Somewhat attentive,Do not know,Do not know,Slightly effective,Good\\r\\n202,Chattogram,Village,Bad,Difficult,Recorded video,Somewhat attentive,Is a worry,Is a worry,Not at all effective,Very Bad\\r\\n191,Barishal,City,Very Good,Easy,Uploaded lecture notes,Somewhat attentive,Is a worry,Is a worry,Moderately effective,Good\\r\\n181,Barishal,Town,Average,Difficult,Youtube,Somewhat attentive,Is a worry,Is a worry,Moderately effective,Average\\r\\n213,Dhaka,Town,Average,Easy,Youtube,Sleepy,Do not know,Do not know,Slightly effective,Average\\r\\n192,Sylhet,City,Bad,Avarage,Online conference platforms,Somewhat attentive,Is a worry,Is a worry,Slightly effective,Good\\r\\n201,Rangpur,Town,Good,Difficult,Youtube,Sleepy,Is a worry,Is a worry,Slightly effective,Average\\r\\n211,Rangpur,City,Average,Avarage,Recorded video,Sleepy,Do not know,Is a worry,Extremely effective,Very Good\\r\\n202,Rajshahi,Village,Very Bad,Difficult,Youtube,Doing other activities,Do not know,Is a worry,Not at all effective,Very Bad\\r\\n172,Rangpur,,Bad,Difficult,Youtube,Doing other activities,Is a worry,Is a worry,Slightly effective,Very Bad\\r\\n193,Dhaka,City,Bad,Easy,Recorded video,Doing other activities,Is a worry,Isn't worry,Extremely effective,Good\\r\\n172,Dhaka,Town,Average,Avarage,Recorded video,Doing other activities,Do not know,Do not know,Not at all effective,Very Bad\\r\\n202,Dhaka,City,Good,Easy,Youtube,Doing other activities,Do not know,Isn't worry,Moderately effective,Average\\r\\n193,Rangpur,Village,Very Bad,Difficult,Uploaded lecture notes,Doing other activities,Do not know,Isn't worry,Not at all effective,Very Bad\\r\\n201,Barishal,City,Average,Difficult,Online conference platforms,Somewhat attentive,Is a worry,Is a worry,Slightly effective,Good\\r\\n193,Dhaka,City,Very Good,Avarage,Recorded video,Attentive,Is a worry,Do not know,Slightly effective,Good\\r\\n173,Mymensingh,Village,Very Bad,Difficult,Youtube,Somewhat attentive,Is a worry,Is a worry,Slightly effective,Bad\\r\\n213,Rajshahi,City,Average,Avarage,Uploaded lecture notes,Doing other activities,Do not know,Do not know,Not at all effective,Very Bad\\r\\n182,Chattogram,Town,Average,Difficult,Youtube,Sleepy,Isn't worry,Is a worry,Not at all effective,Bad\\r\\n182,Dhaka,City,Very Good,Easy,Uploaded lecture notes,Somewhat attentive,Isn't worry,Do not know,Slightly effective,Very Good\\r\\n183,Khulna,Village,Bad,Difficult,Youtube,Doing other activities,Is a worry,Is a worry,Moderately effective,Average\\r\\n213,Rajshahi,Town,Average,Avarage,Recorded video,Sleepy,Do not know,Is a worry,Not at all effective,Bad\\r\\n211,Mymensingh,Town,Average,Difficult,Recorded video,Attentive,Do not know,Do not know,Slightly effective,Average\\r\\n182,Dhaka,City,Good,Easy,Recorded video,Somewhat attentive,Is a worry,Isn't worry,Moderately effective,Bad\\r\\n192,Dhaka,Town,Good,Avarage,Youtube,Somewhat attentive,Is a worry,Isn't worry,Moderately effective,Average\\r\\n203,Barishal,Village,Very Bad,Difficult,Online conference platforms,Sleepy,Isn't worry,Do not know,Slightly effective,Good\\r\\n193,Rangpur,Town,Average,Easy,Recorded video,Attentive,Do not know,Isn't worry,Slightly effective,Good\\r\\n172,Dhaka,City,Good,Avarage,Recorded video,Doing other activities,Do not know,Isn't worry,Slightly effective,Average\\r\\n203,Dhaka,Town,Good,Avarage,Online conference platforms,Sleepy,Isn't worry,Isn't worry,Slightly effective,Very Bad\\r\\n192,Dhaka,City,Good,Avarage,Recorded video,Doing other activities,Isn't worry,Do not know,Very effective,Good\\r\\n213,Dhaka,City,Bad,Easy,Recorded video,Doing other activities,Do not know,Do not know,Very effective,Very Good\\r\\n182,Barishal,Village,Bad,Difficult,Online conference platforms,Somewhat attentive,Is a worry,Isn't worry,Moderately effective,Very Bad\\r\\n172,Sylhet,Town,Average,Easy,Uploaded lecture notes,Sleepy,Is a worry,Isn't worry,Not at all effective,Bad\\r\\n182,Chattogram,Village,Bad,Avarage,Online conference platforms,Doing other activities,Do not know,Isn't worry,Not at all effective,Bad\\r\\n193,Dhaka,Town,Average,Avarage,Recorded video,Attentive,Do not know,Do not know,Extremely effective,Very Good\\r\\n181,Rajshahi,Village,Average,Easy,Online conference platforms,Somewhat attentive,Is a worry,Is a worry,Not at all effective,Bad\\r\\n203,Barishal,Town,Good,Avarage,Uploaded lecture notes,Attentive,Is a worry,Isn't worry,Slightly effective,Average\\r\\n191,Khulna,Town,Average,Easy,Recorded video,Attentive,Is a worry,Isn't worry,Moderately effective,Very Good\\r\\n212,Dhaka,Town,Average,Avarage,Youtube,Sleepy,Do not know,Isn't worry,Extremely effective,Good\\r\\n172,Chattogram,Town,Average,Difficult,Uploaded lecture notes,Somewhat attentive,Isn't worry,Isn't worry,Very effective,Very Good\\r\\n213,Dhaka,City,Bad,Avarage,Recorded video,Doing other activities,Is a worry,Isn't worry,Moderately effective,Good\\r\\n193,Rangpur,City,Bad,Easy,Recorded video,Somewhat attentive,Is a worry,Isn't worry,Slightly effective,Average\\r\\n203,Barishal,Village,Bad,Difficult,Online conference platforms,Sleepy,Do not know,Is a worry,Moderately effective,Very Bad\\r\\n211,Barishal,Town,Average,Easy,Online conference platforms,Somewhat attentive,Is a worry,Isn't worry,Not at all effective,Bad\\r\\n191,Rajshahi,City,Good,Easy,Online conference platforms,Doing other activities,Isn't worry,Isn't worry,Very effective,Good\\r\\n182,Barishal,Village,Very Bad,Avarage,Uploaded lecture notes,Sleepy,Do not know,Is a worry,Not at all effective,Very Bad\\r\\n193,Dhaka,City,Average,Avarage,Youtube,Sleepy,Do not know,Do not know,Moderately effective,Average\\r\\n182,Sylhet,Town,Average,Difficult,Youtube,Somewhat attentive,Do not know,Isn't worry,Slightly effective,Bad\\r\\n211,Rajshahi,Town,Average,Avarage,Online conference platforms,Somewhat attentive,Isn't worry,Do not know,Not at all effective,Bad\\r\\n183,Chattogram,Town,Average,Easy,Recorded video,Somewhat attentive,Is a worry,Do not know,Extremely effective,Very Good\\r\\n182,Dhaka,City,Good,Easy,Uploaded lecture notes,Somewhat attentive,Do not know,Do not know,Slightly effective,Good\\r\\n201,Dhaka,City,Good,Easy,Recorded video,Attentive,Is a worry,Isn't worry,Not at all effective,Bad\\r\\n210,Mymensingh,City,Average,Avarage,Recorded video,Somewhat attentive,Is a worry,Do not know,Very effective,Average\\r\\n181,Mymensingh,City,Average,Easy,Online conference platforms,Somewhat attentive,Isn't worry,Is a worry,Moderately effective,Very Good\\r\\n203,Mymensingh,Town,Average,Avarage,Online conference platforms,Attentive,Isn't worry,Isn't worry,Slightly effective,Good\\r\\n202,Dhaka,City,Average,Avarage,Recorded video,Somewhat attentive,Do not know,Do not know,Not at all effective,Bad\\r\\n203,Mymensingh,City,Average,Easy,Uploaded lecture notes,Somewhat attentive,Is a worry,Is a worry,Slightly effective,Good\\r\\n181,Barishal,Town,Average,Avarage,Uploaded lecture notes,Doing other activities,Is a worry,Isn't worry,Moderately effective,Average\\r\\n210,Dhaka,City,Average,Avarage,Youtube,Somewhat attentive,Do not know,Isn't worry,Slightly effective,Bad\\r\\n172,Mymensingh,Town,Average,Easy,Recorded video,Doing other activities,Do not know,Do not know,Slightly effective,Average\\r\\n203,Dhaka,Town,Average,Avarage,Recorded video,Somewhat attentive,Isn't worry,Is a worry,Very effective,Good\\r\\n211,Mymensingh,City,Bad,Avarage,Online conference platforms,Somewhat attentive,Isn't worry,Do not know,Not at all effective,Very Bad\\r\\n203,Barishal,Village,Very Bad,Difficult,Youtube,Doing other activities,Do not know,Do not know,Not at all effective,Very Bad\\r\\n191,Dhaka,Town,Average,Avarage,Uploaded lecture notes,Sleepy,Isn't worry,Is a worry,Not at all effective,Bad\\r\\n\"}"
            ]
          },
          "metadata": {},
          "execution_count": 1
        }
      ],
      "source": [
        "import numpy as np \n",
        "import pandas as pd \n",
        "import seaborn as sns\n",
        "import matplotlib.pyplot as plt\n",
        "from textblob import TextBlob\n",
        "import matplotlib.pyplot as plt\n",
        "import nltk\n",
        "import matplotlib as mpl\n",
        "import statistics as st\n",
        "from itertools import chain\n",
        "from operator import add\n",
        "import re\n",
        "import functools as func\n",
        "import plotly.graph_objects as go\n",
        "from google.colab import files\n",
        "files.upload()"
      ]
    },
    {
      "cell_type": "code",
      "source": [
        "print(df['Your Internet connection'].value_counts())\n",
        "\n",
        "sns.countplot(df['Your Internet connection']);"
      ],
      "metadata": {
        "colab": {
          "base_uri": "https://localhost:8080/",
          "height": 438
        },
        "id": "ZsvJ-3nG_KQ6",
        "outputId": "906a05fd-3c4a-432f-c487-de57fb058da8"
      },
      "execution_count": null,
      "outputs": [
        {
          "output_type": "stream",
          "name": "stdout",
          "text": [
            "Average      102\n",
            "Bad           46\n",
            "Good          44\n",
            "Very Bad      17\n",
            "Very Good      9\n",
            "Name: Your Internet connection, dtype: int64\n"
          ]
        },
        {
          "output_type": "stream",
          "name": "stderr",
          "text": [
            "/usr/local/lib/python3.8/dist-packages/seaborn/_decorators.py:36: FutureWarning: Pass the following variable as a keyword arg: x. From version 0.12, the only valid positional argument will be `data`, and passing other arguments without an explicit keyword will result in an error or misinterpretation.\n",
            "  warnings.warn(\n"
          ]
        },
        {
          "output_type": "display_data",
          "data": {
            "text/plain": [
              "<Figure size 432x288 with 1 Axes>"
            ],
            "image/png": "[encoded data removed]"
          },
          "metadata": {
            "needs_background": "light"
          }
        }
      ]
    },
    {
      "cell_type": "code",
      "source": [
        "fig = df['Gaps in learning and decline in academic performance'].value_counts().plot(kind='pie', \n",
        "                                    figsize = (10,8), \n",
        "                                    autopct = lambda p : '{:,.0f}'.format(p * df['Gaps in learning and decline in academic performance'].count()/100) , \n",
        "                                    subplots = True,\n",
        "                                    colormap = \"Accent\", \n",
        "                                    title = 'lecture participation', \n",
        "                                    fontsize = 15)"
      ],
      "metadata": {
        "colab": {
          "base_uri": "https://localhost:8080/",
          "height": 523
        },
        "id": "ofHlO0mo_ySL",
        "outputId": "72bcc0dd-9f07-46b4-9c8b-79bd2cd51c19"
      },
      "execution_count": null,
      "outputs": [
        {
          "output_type": "display_data",
          "data": {
            "text/plain": [
              "<Figure size 720x576 with 1 Axes>"
            ],
            "image/png": "[encoded data removed]"
          },
          "metadata": {}
        }
      ]
    },
    {
      "cell_type": "code",
      "source": [],
      "metadata": {
        "id": "Gg0VhpU9quR1"
      },
      "execution_count": null,
      "outputs": []
    },
    {
      "cell_type": "markdown",
      "source": [],
      "metadata": {
        "id": "TJglveIXqz4q"
      }
    },
    {
      "cell_type": "code",
      "source": [
        "\n",
        "ax=df['Weakening of relationships between friends and sense of community'] .value_counts().plot(kind='bar',figsize=(10,6))\n",
        "                                   \n"
      ],
      "metadata": {
        "colab": {
          "base_uri": "https://localhost:8080/",
          "height": 427
        },
        "id": "aNYHTTyODW7U",
        "outputId": "3ad788c2-3edd-433a-aa66-932b3b5712d4"
      },
      "execution_count": null,
      "outputs": [
        {
          "output_type": "display_data",
          "data": {
            "text/plain": [
              "<Figure size 720x432 with 1 Axes>"
            ],
            "image/png": "[encoded data removed]"
          },
          "metadata": {
            "needs_background": "light"
          }
        }
      ]
    },
    {
      "cell_type": "code",
      "source": [],
      "metadata": {
        "id": "2CO1MJkkIchT"
      },
      "execution_count": null,
      "outputs": []
    },
    {
      "cell_type": "code",
      "source": [
        "print(df['Your participation during faculty lecture'].value_counts())\n",
        "\n",
        "# Processing Data\n",
        "\n",
        "recorded = []\n",
        "recorded.append(len(df.loc[df['Your participation during faculty lecture'] == 'Sleepy, Somewhat attentive']))\n",
        "recorded.append(len(df.loc[df['Your participation during faculty lecture'] == 'Sleepy']))\n",
        "recorded.append(len(df.loc[df['Your participation during faculty lecture'] == 'Sleepy, Attentive, Somewhat attentive']))\n",
        "recorded.append(len(df.loc[df['Your participation during faculty lecture'] == 'Sleepy, Attentive, Doing other activities, Somewhat attentive']))\n",
        "recorded.append(len(df.loc[df['Your participation during faculty lecture'] == 'Sleepy, Doing other activities, Somewhat attentive']))\n",
        "recorded.append(len(df.loc[df['Your participation during faculty lecture'] == 'Sleepy, Attentive']))\n",
        "\n",
        "uploaded = []\n",
        "uploaded.append(len(df.loc[df['Your participation during faculty lecture'] == 'Sleepy, Somewhat attentive']))\n",
        "uploaded.append(len(df.loc[df['Your participation during faculty lecture'] == 'Somewhat attentive']))\n",
        "uploaded.append(len(df.loc[df['Your participation during faculty lecture'] == 'Sleepy, Attentive, Somewhat attentive']))\n",
        "uploaded.append(len(df.loc[df['Your participation during faculty lecture'] == 'Sleepy, Attentive, Doing other activities, Somewhat attentive']))\n",
        "uploaded.append(len(df.loc[df['Your participation during faculty lecture'] == 'Sleepy, Doing other activities, Somewhat attentive']))\n",
        "uploaded.append(len(df.loc[df['Your participation during faculty lecture'] == 'Attentive, Doing other activities, Somewhat attentive']))\n",
        "uploaded.append(len(df.loc[df['Your participation during faculty lecture'] == 'Attentive, Somewhat attentive']))\n",
        "\n",
        "online = []\n",
        "online.append(len(df.loc[df['Your participation during faculty lecture'] == 'Sleepy, Attentive, Somewhat attentive']))\n",
        "online.append(len(df.loc[df['Your participation during faculty lecture'] == 'Attentive']))\n",
        "online.append(len(df.loc[df['Your participation during faculty lecture'] == 'Sleepy, Attentive, Doing other activities, Somewhat attentive']))\n",
        "online.append(len(df.loc[df['Your participation during faculty lecture'] == 'Sleepy, Doing other activities, Somewhat attentive']))\n",
        "online.append(len(df.loc[df['Your participation during faculty lecture'] == 'Attentive, Doing other activities, Somewhat attentive']))\n",
        "online.append(len(df.loc[df['Your participation during faculty lecture'] == 'Attentive, Somewhat attentive']))\n",
        "\n",
        "live = []\n",
        "live.append(len(df.loc[df['Your participation during faculty lecture'] == 'Sleepy, Attentive, Doing other activities, Somewhat attentive']))\n",
        "live.append(len(df.loc[df['Your participation during faculty lecture'] == 'Sleepy, Doing other activities, Somewhat attentive']))\n",
        "live.append(len(df.loc[df['Your participation during faculty lecture'] == 'Attentive, Doing other activities, Somewhat attentive']))\n",
        "live.append(len(df.loc[df['Your participation during faculty lecture'] == 'Doing other activities']))\n",
        "\n",
        "labels = ['Sleepy', 'Attentive', 'Somewhat attentive', 'Doing other activities']\n",
        "sizes = [sum(recorded), sum(uploaded), sum(online), sum(live)]\n",
        "\n",
        "import plotly.graph_objects as go\n",
        "\n",
        "# Use textposition='auto' for direct text\n",
        "fig = go.Figure(data=[go.Bar(\n",
        "            x=labels, y=sizes,\n",
        "            text=sizes,\n",
        "            textposition='auto',\n",
        "        )])\n",
        "\n",
        "fig.update_traces(marker_color='rgb(20,66,66)', marker_line_color='rgb(17,18,17)',\n",
        "                  marker_line_width=3)\n",
        "fig.update_layout(title_text='Students participation during lecture')\n",
        "fig.show()"
      ],
      "metadata": {
        "colab": {
          "base_uri": "https://localhost:8080/",
          "height": 629
        },
        "id": "o5pHROZ1Ax1z",
        "outputId": "0e305cf5-c67c-415d-e9fb-9c783061fe6c"
      },
      "execution_count": null,
      "outputs": [
        {
          "output_type": "stream",
          "name": "stdout",
          "text": [
            "Somewhat attentive        82\n",
            "Sleepy                    65\n",
            "Doing other activities    39\n",
            "Attentive                 32\n",
            "Name: Your participation during faculty lecture, dtype: int64\n"
          ]
        },
        {
          "output_type": "display_data",
          "data": {
            "text/html": [
              "<html>\n",
              "<head><meta charset=\"utf-8\" /></head>\n",
              "<body>\n",
              "    <div>            <script src=\"https://cdnjs.cloudflare.com/ajax/libs/mathjax/2.7.5/MathJax.js?config=TeX-AMS-MML_SVG\"></script><script type=\"text/javascript\">if (window.MathJax) {MathJax.Hub.Config({SVG: {font: \"STIX-Web\"}});}</script>                <script type=\"text/javascript\">window.PlotlyConfig = {MathJaxConfig: 'local'};</script>\n",
              "        <script src=\"https://cdn.plot.ly/plotly-2.8.3.min.js\"></script>                <div id=\"5deb916b-39ad-461f-aa61-5246e7c4633b\" class=\"plotly-graph-div\" style=\"height:525px; width:100%;\"></div>            <script type=\"text/javascript\">                                    window.PLOTLYENV=window.PLOTLYENV || {};                                    if (document.getElementById(\"5deb916b-39ad-461f-aa61-5246e7c4633b\")) {                    Plotly.newPlot(                        \"5deb916b-39ad-461f-aa61-5246e7c4633b\",                        [{\"text\":[\"65\",\"82\",\"32\",\"39\"],\"textposition\":\"auto\",\"x\":[\"Sleepy\",\"Attentive\",\"Somewhat attentive\",\"Doing other activities\"],\"y\":[65,82,32,39],\"type\":\"bar\",\"marker\":{\"line\":{\"color\":\"rgb(17,18,17)\",\"width\":3},\"color\":\"rgb(20,66,66)\"}}],                        {\"template\":{\"data\":{\"bar\":[{\"error_x\":{\"color\":\"#2a3f5f\"},\"error_y\":{\"color\":\"#2a3f5f\"},\"marker\":{\"line\":{\"color\":\"#E5ECF6\",\"width\":0.5},\"pattern\":{\"fillmode\":\"overlay\",\"size\":10,\"solidity\":0.2}},\"type\":\"bar\"}],\"barpolar\":[{\"marker\":{\"line\":{\"color\":\"#E5ECF6\",\"width\":0.5},\"pattern\":{\"fillmode\":\"overlay\",\"size\":10,\"solidity\":0.2}},\"type\":\"barpolar\"}],\"carpet\":[{\"aaxis\":{\"endlinecolor\":\"#2a3f5f\",\"gridcolor\":\"white\",\"linecolor\":\"white\",\"minorgridcolor\":\"white\",\"startlinecolor\":\"#2a3f5f\"},\"baxis\":{\"endlinecolor\":\"#2a3f5f\",\"gridcolor\":\"white\",\"linecolor\":\"white\",\"minorgridcolor\":\"white\",\"startlinecolor\":\"#2a3f5f\"},\"type\":\"carpet\"}],\"choropleth\":[{\"colorbar\":{\"outlinewidth\":0,\"ticks\":\"\"},\"type\":\"choropleth\"}],\"contour\":[{\"colorbar\":{\"outlinewidth\":0,\"ticks\":\"\"},\"colorscale\":[[0.0,\"#0d0887\"],[0.1111111111111111,\"#46039f\"],[0.2222222222222222,\"#7201a8\"],[0.3333333333333333,\"#9c179e\"],[0.4444444444444444,\"#bd3786\"],[0.5555555555555556,\"#d8576b\"],[0.6666666666666666,\"#ed7953\"],[0.7777777777777778,\"#fb9f3a\"],[0.8888888888888888,\"#fdca26\"],[1.0,\"#f0f921\"]],\"type\":\"contour\"}],\"contourcarpet\":[{\"colorbar\":{\"outlinewidth\":0,\"ticks\":\"\"},\"type\":\"contourcarpet\"}],\"heatmap\":[{\"colorbar\":{\"outlinewidth\":0,\"ticks\":\"\"},\"colorscale\":[[0.0,\"#0d0887\"],[0.1111111111111111,\"#46039f\"],[0.2222222222222222,\"#7201a8\"],[0.3333333333333333,\"#9c179e\"],[0.4444444444444444,\"#bd3786\"],[0.5555555555555556,\"#d8576b\"],[0.6666666666666666,\"#ed7953\"],[0.7777777777777778,\"#fb9f3a\"],[0.8888888888888888,\"#fdca26\"],[1.0,\"#f0f921\"]],\"type\":\"heatmap\"}],\"heatmapgl\":[{\"colorbar\":{\"outlinewidth\":0,\"ticks\":\"\"},\"colorscale\":[[0.0,\"#0d0887\"],[0.1111111111111111,\"#46039f\"],[0.2222222222222222,\"#7201a8\"],[0.3333333333333333,\"#9c179e\"],[0.4444444444444444,\"#bd3786\"],[0.5555555555555556,\"#d8576b\"],[0.6666666666666666,\"#ed7953\"],[0.7777777777777778,\"#fb9f3a\"],[0.8888888888888888,\"#fdca26\"],[1.0,\"#f0f921\"]],\"type\":\"heatmapgl\"}],\"histogram\":[{\"marker\":{\"pattern\":{\"fillmode\":\"overlay\",\"size\":10,\"solidity\":0.2}},\"type\":\"histogram\"}],\"histogram2d\":[{\"colorbar\":{\"outlinewidth\":0,\"ticks\":\"\"},\"colorscale\":[[0.0,\"#0d0887\"],[0.1111111111111111,\"#46039f\"],[0.2222222222222222,\"#7201a8\"],[0.3333333333333333,\"#9c179e\"],[0.4444444444444444,\"#bd3786\"],[0.5555555555555556,\"#d8576b\"],[0.6666666666666666,\"#ed7953\"],[0.7777777777777778,\"#fb9f3a\"],[0.8888888888888888,\"#fdca26\"],[1.0,\"#f0f921\"]],\"type\":\"histogram2d\"}],\"histogram2dcontour\":[{\"colorbar\":{\"outlinewidth\":0,\"ticks\":\"\"},\"colorscale\":[[0.0,\"#0d0887\"],[0.1111111111111111,\"#46039f\"],[0.2222222222222222,\"#7201a8\"],[0.3333333333333333,\"#9c179e\"],[0.4444444444444444,\"#bd3786\"],[0.5555555555555556,\"#d8576b\"],[0.6666666666666666,\"#ed7953\"],[0.7777777777777778,\"#fb9f3a\"],[0.8888888888888888,\"#fdca26\"],[1.0,\"#f0f921\"]],\"type\":\"histogram2dcontour\"}],\"mesh3d\":[{\"colorbar\":{\"outlinewidth\":0,\"ticks\":\"\"},\"type\":\"mesh3d\"}],\"parcoords\":[{\"line\":{\"colorbar\":{\"outlinewidth\":0,\"ticks\":\"\"}},\"type\":\"parcoords\"}],\"pie\":[{\"automargin\":true,\"type\":\"pie\"}],\"scatter\":[{\"marker\":{\"colorbar\":{\"outlinewidth\":0,\"ticks\":\"\"}},\"type\":\"scatter\"}],\"scatter3d\":[{\"line\":{\"colorbar\":{\"outlinewidth\":0,\"ticks\":\"\"}},\"marker\":{\"colorbar\":{\"outlinewidth\":0,\"ticks\":\"\"}},\"type\":\"scatter3d\"}],\"scattercarpet\":[{\"marker\":{\"colorbar\":{\"outlinewidth\":0,\"ticks\":\"\"}},\"type\":\"scattercarpet\"}],\"scattergeo\":[{\"marker\":{\"colorbar\":{\"outlinewidth\":0,\"ticks\":\"\"}},\"type\":\"scattergeo\"}],\"scattergl\":[{\"marker\":{\"colorbar\":{\"outlinewidth\":0,\"ticks\":\"\"}},\"type\":\"scattergl\"}],\"scattermapbox\":[{\"marker\":{\"colorbar\":{\"outlinewidth\":0,\"ticks\":\"\"}},\"type\":\"scattermapbox\"}],\"scatterpolar\":[{\"marker\":{\"colorbar\":{\"outlinewidth\":0,\"ticks\":\"\"}},\"type\":\"scatterpolar\"}],\"scatterpolargl\":[{\"marker\":{\"colorbar\":{\"outlinewidth\":0,\"ticks\":\"\"}},\"type\":\"scatterpolargl\"}],\"scatterternary\":[{\"marker\":{\"colorbar\":{\"outlinewidth\":0,\"ticks\":\"\"}},\"type\":\"scatterternary\"}],\"surface\":[{\"colorbar\":{\"outlinewidth\":0,\"ticks\":\"\"},\"colorscale\":[[0.0,\"#0d0887\"],[0.1111111111111111,\"#46039f\"],[0.2222222222222222,\"#7201a8\"],[0.3333333333333333,\"#9c179e\"],[0.4444444444444444,\"#bd3786\"],[0.5555555555555556,\"#d8576b\"],[0.6666666666666666,\"#ed7953\"],[0.7777777777777778,\"#fb9f3a\"],[0.8888888888888888,\"#fdca26\"],[1.0,\"#f0f921\"]],\"type\":\"surface\"}],\"table\":[{\"cells\":{\"fill\":{\"color\":\"#EBF0F8\"},\"line\":{\"color\":\"white\"}},\"header\":{\"fill\":{\"color\":\"#C8D4E3\"},\"line\":{\"color\":\"white\"}},\"type\":\"table\"}]},\"layout\":{\"annotationdefaults\":{\"arrowcolor\":\"#2a3f5f\",\"arrowhead\":0,\"arrowwidth\":1},\"autotypenumbers\":\"strict\",\"coloraxis\":{\"colorbar\":{\"outlinewidth\":0,\"ticks\":\"\"}},\"colorscale\":{\"diverging\":[[0,\"#8e0152\"],[0.1,\"#c51b7d\"],[0.2,\"#de77ae\"],[0.3,\"#f1b6da\"],[0.4,\"#fde0ef\"],[0.5,\"#f7f7f7\"],[0.6,\"#e6f5d0\"],[0.7,\"#b8e186\"],[0.8,\"#7fbc41\"],[0.9,\"#4d9221\"],[1,\"#276419\"]],\"sequential\":[[0.0,\"#0d0887\"],[0.1111111111111111,\"#46039f\"],[0.2222222222222222,\"#7201a8\"],[0.3333333333333333,\"#9c179e\"],[0.4444444444444444,\"#bd3786\"],[0.5555555555555556,\"#d8576b\"],[0.6666666666666666,\"#ed7953\"],[0.7777777777777778,\"#fb9f3a\"],[0.8888888888888888,\"#fdca26\"],[1.0,\"#f0f921\"]],\"sequentialminus\":[[0.0,\"#0d0887\"],[0.1111111111111111,\"#46039f\"],[0.2222222222222222,\"#7201a8\"],[0.3333333333333333,\"#9c179e\"],[0.4444444444444444,\"#bd3786\"],[0.5555555555555556,\"#d8576b\"],[0.6666666666666666,\"#ed7953\"],[0.7777777777777778,\"#fb9f3a\"],[0.8888888888888888,\"#fdca26\"],[1.0,\"#f0f921\"]]},\"colorway\":[\"#636efa\",\"#EF553B\",\"#00cc96\",\"#ab63fa\",\"#FFA15A\",\"#19d3f3\",\"#FF6692\",\"#B6E880\",\"#FF97FF\",\"#FECB52\"],\"font\":{\"color\":\"#2a3f5f\"},\"geo\":{\"bgcolor\":\"white\",\"lakecolor\":\"white\",\"landcolor\":\"#E5ECF6\",\"showlakes\":true,\"showland\":true,\"subunitcolor\":\"white\"},\"hoverlabel\":{\"align\":\"left\"},\"hovermode\":\"closest\",\"mapbox\":{\"style\":\"light\"},\"paper_bgcolor\":\"white\",\"plot_bgcolor\":\"#E5ECF6\",\"polar\":{\"angularaxis\":{\"gridcolor\":\"white\",\"linecolor\":\"white\",\"ticks\":\"\"},\"bgcolor\":\"#E5ECF6\",\"radialaxis\":{\"gridcolor\":\"white\",\"linecolor\":\"white\",\"ticks\":\"\"}},\"scene\":{\"xaxis\":{\"backgroundcolor\":\"#E5ECF6\",\"gridcolor\":\"white\",\"gridwidth\":2,\"linecolor\":\"white\",\"showbackground\":true,\"ticks\":\"\",\"zerolinecolor\":\"white\"},\"yaxis\":{\"backgroundcolor\":\"#E5ECF6\",\"gridcolor\":\"white\",\"gridwidth\":2,\"linecolor\":\"white\",\"showbackground\":true,\"ticks\":\"\",\"zerolinecolor\":\"white\"},\"zaxis\":{\"backgroundcolor\":\"#E5ECF6\",\"gridcolor\":\"white\",\"gridwidth\":2,\"linecolor\":\"white\",\"showbackground\":true,\"ticks\":\"\",\"zerolinecolor\":\"white\"}},\"shapedefaults\":{\"line\":{\"color\":\"#2a3f5f\"}},\"ternary\":{\"aaxis\":{\"gridcolor\":\"white\",\"linecolor\":\"white\",\"ticks\":\"\"},\"baxis\":{\"gridcolor\":\"white\",\"linecolor\":\"white\",\"ticks\":\"\"},\"bgcolor\":\"#E5ECF6\",\"caxis\":{\"gridcolor\":\"white\",\"linecolor\":\"white\",\"ticks\":\"\"}},\"title\":{\"x\":0.05},\"xaxis\":{\"automargin\":true,\"gridcolor\":\"white\",\"linecolor\":\"white\",\"ticks\":\"\",\"title\":{\"standoff\":15},\"zerolinecolor\":\"white\",\"zerolinewidth\":2},\"yaxis\":{\"automargin\":true,\"gridcolor\":\"white\",\"linecolor\":\"white\",\"ticks\":\"\",\"title\":{\"standoff\":15},\"zerolinecolor\":\"white\",\"zerolinewidth\":2}}},\"title\":{\"text\":\"Students participation during lecture\"}},                        {\"responsive\": true}                    ).then(function(){\n",
              "                            \n",
              "var gd = document.getElementById('5deb916b-39ad-461f-aa61-5246e7c4633b');\n",
              "var x = new MutationObserver(function (mutations, observer) {{\n",
              "        var display = window.getComputedStyle(gd).display;\n",
              "        if (!display || display === 'none') {{\n",
              "            console.log([gd, 'removed!']);\n",
              "            Plotly.purge(gd);\n",
              "            observer.disconnect();\n",
              "        }}\n",
              "}});\n",
              "\n",
              "// Listen for the removal of the full notebook cells\n",
              "var notebookContainer = gd.closest('#notebook-container');\n",
              "if (notebookContainer) {{\n",
              "    x.observe(notebookContainer, {childList: true});\n",
              "}}\n",
              "\n",
              "// Listen for the clearing of the current output cell\n",
              "var outputEl = gd.closest('.output');\n",
              "if (outputEl) {{\n",
              "    x.observe(outputEl, {childList: true});\n",
              "}}\n",
              "\n",
              "                        })                };                            </script>        </div>\n",
              "</body>\n",
              "</html>"
            ]
          },
          "metadata": {}
        }
      ]
    },
    {
      "cell_type": "code",
      "source": [
        "ax=df['Weakening of relationships between friends and sense of community'] .value_counts().plot(kind='bar',figsize=(10,6))"
      ],
      "metadata": {
        "colab": {
          "base_uri": "https://localhost:8080/",
          "height": 427
        },
        "id": "ujyQ2NfDIeKf",
        "outputId": "7b10f90c-f0cb-4d60-8471-6cc8b9427e90"
      },
      "execution_count": null,
      "outputs": [
        {
          "output_type": "display_data",
          "data": {
            "text/plain": [
              "<Figure size 720x432 with 1 Axes>"
            ],
            "image/png": "[encoded data removed]"
          },
          "metadata": {
            "needs_background": "light"
          }
        }
      ]
    },
    {
      "cell_type": "code",
      "source": [
        "sns.distplot(df['Batch'])"
      ],
      "metadata": {
        "colab": {
          "base_uri": "https://localhost:8080/",
          "height": 296
        },
        "id": "DPfT14AZC43S",
        "outputId": "f676669c-41e5-4552-b259-f24e5ae91c44"
      },
      "execution_count": null,
      "outputs": [
        {
          "output_type": "execute_result",
          "data": {
            "text/plain": [
              "<matplotlib.axes._subplots.AxesSubplot at 0x7ff1d7d13ac0>"
            ]
          },
          "metadata": {},
          "execution_count": 86
        },
        {
          "output_type": "display_data",
          "data": {
            "text/plain": [
              "<Figure size 432x288 with 1 Axes>"
            ],
            "image/png": "[encoded data removed]"
          },
          "metadata": {
            "needs_background": "light"
          }
        }
      ]
    },
    {
      "cell_type": "code",
      "source": [
        "\n"
      ],
      "metadata": {
        "id": "mJTzht2kBM4R"
      },
      "execution_count": null,
      "outputs": []
    }
  ]
}